{
 "cells": [
  {
   "cell_type": "code",
   "execution_count": null,
   "id": "896533b2",
   "metadata": {},
   "outputs": [],
   "source": [
    "print('Albert Einstein đã từng nói: một người không bao giờ mắc sai lầm không bao giờ thử bất kỳ điều gì mới.')"
   ]
  },
  {
   "cell_type": "code",
   "execution_count": null,
   "id": "c00d8af6",
   "metadata": {},
   "outputs": [],
   "source": [
    "print('Hello World!')"
   ]
  },
  {
   "cell_type": "code",
   "execution_count": 1,
   "id": "28336ebd",
   "metadata": {},
   "outputs": [
    {
     "name": "stdout",
     "output_type": "stream",
     "text": [
      "Five is greater than two!\n"
     ]
    }
   ],
   "source": [
    "if 5 > 2:\n",
    "    print('Five is greater than two!')"
   ]
  },
  {
   "cell_type": "code",
   "execution_count": null,
   "id": "bed09160",
   "metadata": {},
   "outputs": [],
   "source": [
    "total = 1 + \\\n",
    "2 + \\\n",
    "3\n",
    "print(total); print('Hello Python!')"
   ]
  },
  {
   "cell_type": "code",
   "execution_count": null,
   "id": "527bf79b",
   "metadata": {},
   "outputs": [],
   "source": [
    "if True:\n",
    "    print('True')\n",
    "else:\n",
    "    print('False')"
   ]
  },
  {
   "cell_type": "code",
   "execution_count": null,
   "id": "ca472252",
   "metadata": {},
   "outputs": [],
   "source": [
    "#this is a comment\n",
    "print('Hello, World!')"
   ]
  },
  {
   "cell_type": "code",
   "execution_count": null,
   "id": "5cdc61b7",
   "metadata": {},
   "outputs": [],
   "source": [
    "import math\n",
    "import os"
   ]
  },
  {
   "cell_type": "code",
   "execution_count": null,
   "id": "29bcd374",
   "metadata": {},
   "outputs": [],
   "source": [
    "def add(a, b):\n",
    "    result =  a + b\n",
    "    return result"
   ]
  },
  {
   "cell_type": "code",
   "execution_count": null,
   "id": "30022723",
   "metadata": {},
   "outputs": [],
   "source": [
    "#module1.py\n",
    "question = 'what is the meaning of Life, the Universe, and Everything?'\n",
    "answer =  42\n",
    "\n",
    "#module2.py\n",
    "question = 'What is your quest?'\n",
    "answer = 'To seek the holy grail.'\n",
    "\n",
    "import module1\n",
    "import module2\n",
    "print(module1.question)\n",
    "print(module2.question)\n",
    "print(module1.answer)\n",
    "print(module2.answer)"
   ]
  }
 ],
 "metadata": {
  "kernelspec": {
   "display_name": "Python 3",
   "language": "python",
   "name": "python3"
  },
  "language_info": {
   "codemirror_mode": {
    "name": "ipython",
    "version": 3
   },
   "file_extension": ".py",
   "mimetype": "text/x-python",
   "name": "python",
   "nbconvert_exporter": "python",
   "pygments_lexer": "ipython3",
   "version": "3.13.7"
  }
 },
 "nbformat": 4,
 "nbformat_minor": 5
}
