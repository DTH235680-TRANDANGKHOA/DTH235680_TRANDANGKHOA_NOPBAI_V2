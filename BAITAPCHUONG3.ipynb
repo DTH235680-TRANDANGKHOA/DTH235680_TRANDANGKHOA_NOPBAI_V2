{
 "cells": [
  {
   "cell_type": "code",
   "execution_count": null,
   "id": "2dc1ccf7",
   "metadata": {
    "vscode": {
     "languageId": "plaintext"
    }
   },
   "outputs": [],
   "source": [
    "//cau 1\n",
    "print(\"Chương trình kiểm tra năm nhuần\")\n",
    "year=int(input(\"Mời Thím nhập vào 1 năm:\"))\n",
    "if (year % 4 ==0 and year % 100 != 0) or year % 400 == 0:\n",
    " print(\"Năm \", year, \" là năm nhuần\")\n",
    "else:\n",
    " print(\"Năm \", year, \" không nhuần\")"
   ]
  },
  {
   "cell_type": "code",
   "execution_count": null,
   "id": "814ee49a",
   "metadata": {
    "vscode": {
     "languageId": "plaintext"
    }
   },
   "outputs": [],
   "source": [
    "//cau 2\n",
    "print(\"Chương trình đếm số ngày trong tháng\")\n",
    "month=int(input(\"Nhập vào 1 tháng:\"))\n",
    "if month in (1,3,5,7,8,10,12):\n",
    " print(\"Tháng \", month, \" có 31 ngày\")\n",
    "elif month in (4,6,9,11):\n",
    " print(\"Tháng \", month, \" có 30 ngày\")\n",
    "elif month==2:\n",
    " year=int(input(\"Mời bạn nhập vào năm:\"))\n",
    " if (year % 4 ==0 and year % 100 != 0) or year % 400\n",
    "==0:\n",
    " print(\"Tháng \",month, \" có 29 ngày\")\n",
    " else:\n",
    " print(\"Tháng \", month, \" có 28 ngày\")\n",
    "else:\n",
    " print(\"Tháng \", month, \" không hợp lệ\")"
   ]
  },
  {
   "cell_type": "code",
   "execution_count": null,
   "id": "1f05c3bd",
   "metadata": {
    "vscode": {
     "languageId": "plaintext"
    }
   },
   "outputs": [],
   "source": [
    "// cau 3\n",
    "from math import sqrt\n",
    "print(\"Chương trình Giải Phương trình bậc 2\")\n",
    "a=float(input(\"Nhập a:\"))\n",
    "b=float(input(\"Nhập b:\"))\n",
    "c=float(input(\"Nhập c:\"))\n",
    "if a == 0:\n",
    " #bx+c=0\n",
    " if b == 0 and c ==0:\n",
    " print(\"Vô số nghiệm\")\n",
    " elif b==0 and c !=0:\n",
    " print(\"Vô nghiệm\")\n",
    " else:\n",
    " x=-c/b\n",
    " print(\"No x=\",x)\n",
    "else:\n",
    " delta=b**2-4*a*c\n",
    " if delta <0 :\n",
    " print(\"Vô No\")\n",
    " elif delta ==0:\n",
    " x=-b/(2*a)\n",
    " print(\"No kép x1=x2=\",x)\n",
    " else:\n",
    " x1=(-b-sqrt(delta))/(2*a)\n",
    " x2=(-b+sqrt(delta))/(2*a)\n",
    " print(\"x1=\",x1)\n",
    " print(\"x2=\",x2)"
   ]
  },
  {
   "cell_type": "code",
   "execution_count": null,
   "id": "a97de875",
   "metadata": {
    "vscode": {
     "languageId": "plaintext"
    }
   },
   "outputs": [],
   "source": [
    "//cau 4\n",
    "x=3,y=5,z=7;\n",
    "print(x==3)\n",
    "print(x,y)\n",
    "print(x<=y)\n",
    "print(x>=y)\n",
    "print(x!+ y-2)\n",
    "print(x<10)\n",
    "print(x>=0 and x<10)\n",
    "print(x<0 and x<10)\n",
    "print(x>=c and x<2)\n",
    "print(x<0 or x,10)\n",
    "print(x>0 or x<10)\n",
    "print(x<0 or x>10)"
   ]
  },
  {
   "cell_type": "code",
   "execution_count": null,
   "id": "f7fec952",
   "metadata": {
    "vscode": {
     "languageId": "plaintext"
    }
   },
   "outputs": [],
   "source": [
    "def numberConvert(number):\n",
    "    match(number):\n",
    "            case 1: return \"Một\"\n",
    "            case 2: return \"Hai\"\n",
    "            case 3: return \"Ba\"\n",
    "            case 4: return \"Bốn\"\n",
    "            case 5: return \"Năm\"\n",
    "            case 6: return \"Sáu\"\n",
    "            case 7: return \"Bảy\"\n",
    "            case 8: return \"Tám\"\n",
    "            case 9: return \"Chín\"\n",
    "            case 10: return \"Mười\"  \n",
    "\n",
    "def numberCheck(number):\n",
    "    if (number % 10 == 0): return numberConvert(number)\n",
    "    else: \n",
    "        second = number % 10\n",
    "        first = number // 10\n",
    "        result = \"\"\n",
    "        match(first):\n",
    "            case 1: result = \"Mười \"\n",
    "            case 2: result = \"Hai mươi \"\n",
    "            case 3: result = \"Ba mươi \"\n",
    "            case 4: result = \"Bốn mươi \"\n",
    "            case 5: result = \"Năm mươi \"\n",
    "            case 6: result = \"Sáu mươi \"\n",
    "            case 7: result = \"Bảy mươi \"\n",
    "            case 8: result = \"Tám mươi \"\n",
    "            case 9: result = \"Chín mươi \"\n",
    "        return result + numberConvert(second)\n",
    "\n",
    "number = int(input(\"Nhap 1 so: \"))\n",
    "print(numberCheck(number))"
   ]
  },
  {
   "cell_type": "code",
   "execution_count": null,
   "id": "a7411e69",
   "metadata": {
    "vscode": {
     "languageId": "plaintext"
    }
   },
   "outputs": [],
   "source": [
    "print('Câu 6: Chương trình đọc số')\n",
    "def doc_so(n):\n",
    "    hang_chuc = [\"\", \"mười\", \"hai mươi\", \"ba mươi\", \"bốn mươi\",\n",
    "                 \"năm mươi\", \"sáu mươi\", \"bảy mươi\", \"tám mươi\", \"chín mươi\"]\n",
    "    hang_don_vi = [\"không\", \"một\", \"hai\", \"ba\", \"bốn\",\n",
    "                   \"năm\", \"sáu\", \"bảy\", \"tám\", \"chín\"]\n",
    "\n",
    "    if n < 10:  \n",
    "        return hang_don_vi[n]\n",
    "    elif 10 <= n < 20:\n",
    "        if n == 10:\n",
    "            return \"mười\"\n",
    "        elif n == 15:\n",
    "            return \"mười lăm\"\n",
    "        else:\n",
    "            return \"mười \" + hang_don_vi[n % 10]\n",
    "    else:  \n",
    "        chuc = n // 10\n",
    "        don_vi = n % 10\n",
    "        if don_vi == 0:\n",
    "            return hang_chuc[chuc]\n",
    "        elif don_vi == 5:\n",
    "            return hang_chuc[chuc] + \" lăm\"\n",
    "        else:\n",
    "            return hang_chuc[chuc] + \" \" + hang_don_vi[don_vi]\n",
    "\n",
    "while(True):\n",
    "    try:\n",
    "        n = int(input(\"Nhập một số nguyên dương nhỏ hơn 100: \"))\n",
    "        if 0 <= n < 100:\n",
    "            print(f\"Số {n} đọc là: {doc_so(n)}\")\n",
    "            break\n",
    "        else:\n",
    "            print(\"Vui lòng nhập số trong khoảng từ 0 đến 99.\")\n",
    "    except ValueError:\n",
    "        print(\"Đầu vào không hợp lệ. Vui lòng nhập một số nguyên dương.\")\n"
   ]
  },
  {
   "cell_type": "code",
   "execution_count": null,
   "id": "3d1953d4",
   "metadata": {
    "vscode": {
     "languageId": "plaintext"
    }
   },
   "outputs": [],
   "source": [
    "print('Chương trình Tìm ngày kế sau ngày vừa nhập')\n",
    "while True:\n",
    "    try:\n",
    "        ngay = int(input(\"Nhập ngày: \"))\n",
    "        thang = int(input(\"Nhập tháng: \"))\n",
    "        nam = int(input(\"Nhập năm: \"))\n",
    "        break\n",
    "    except ValueError:\n",
    "        print(\"Dữ liệu không hợp lệ. Vui lòng nhập lại!\")\n",
    "def ngay_ke_sau(ngay, thang, nam):\n",
    "    if thang in [1, 3, 5, 7, 8, 10]:\n",
    "        if ngay < 31:\n",
    "            ngay += 1\n",
    "        else:\n",
    "            ngay = 1\n",
    "            thang += 1\n",
    "    elif thang in [4, 6, 9, 11]:\n",
    "        if ngay < 30:\n",
    "            ngay += 1\n",
    "        else:\n",
    "            ngay = 1\n",
    "            thang += 1\n",
    "    elif thang == 2:\n",
    "        if (nam % 4 == 0 and nam % 100 != 0) or (nam % 400 == 0):\n",
    "            if ngay < 29:\n",
    "                ngay += 1\n",
    "            else:\n",
    "                ngay = 1\n",
    "                thang += 1\n",
    "        else:\n",
    "            if ngay < 28:\n",
    "                ngay += 1\n",
    "            else:\n",
    "                ngay = 1\n",
    "                thang += 1\n",
    "    elif thang == 12:\n",
    "        if ngay < 31:\n",
    "            ngay += 1\n",
    "        else:\n",
    "            ngay = 1\n",
    "            thang = 1\n",
    "            nam += 1\n",
    "    return ngay, thang, nam\n",
    "ngay_moi, thang_moi, nam_moi = ngay_ke_sau(ngay, thang, nam)\n",
    "print(f\"Ngày kế sau ngày {ngay}/{thang}/{nam} là {ngay_moi}/{thang_moi}/{nam_moi}\")"
   ]
  },
  {
   "cell_type": "code",
   "execution_count": null,
   "id": "5a5a2fd9",
   "metadata": {
    "vscode": {
     "languageId": "plaintext"
    }
   },
   "outputs": [],
   "source": [
    "print('Câu 8: Chương trình xuất kết quả theo phép toán đã nhập')\n",
    "phep_toan = input(\"Nhập phép toán (+, -, *, /): \")\n",
    "try:\n",
    "    so1 = float(input(\"Nhập số thứ nhất: \"))\n",
    "    so2 = float(input(\"Nhập số thứ hai: \"))\n",
    "    if phep_toan == '+':\n",
    "        ket_qua = so1 + so2\n",
    "    elif phep_toan == '-':\n",
    "        ket_qua = so1 - so2\n",
    "    elif phep_toan == '*':\n",
    "        ket_qua = so1 * so2\n",
    "    elif phep_toan == '/':\n",
    "        if so2 != 0:\n",
    "            ket_qua = so1 / so2\n",
    "        else:\n",
    "            print(\"Lỗi: Không thể chia cho 0.\")\n",
    "            ket_qua = None\n",
    "    else:\n",
    "        print(\"Phép toán không hợp lệ.\")\n",
    "        ket_qua = None\n",
    "\n",
    "    if ket_qua is not None:\n",
    "        print(f\"Kết quả của {so1} {phep_toan} {so2} = {ket_qua}\")\n",
    "except ValueError:\n",
    "    print(\"Dữ liệu không hợp lệ. Vui lòng nhập lại!\")"
   ]
  },
  {
   "cell_type": "code",
   "execution_count": null,
   "id": "8b62b5d8",
   "metadata": {
    "vscode": {
     "languageId": "plaintext"
    }
   },
   "outputs": [],
   "source": [
    "print('Câu 9: Chương trình xuất ra tháng vừa nhập thuộc quý mấy trong năm')\n",
    "while(True):\n",
    "    try:\n",
    "        thang = int(input(\"Nhập tháng (1-12): \"))\n",
    "        if 1 <= thang <= 12:\n",
    "            if thang in [1, 2, 3]:\n",
    "                quy = 1\n",
    "            elif thang in [4, 5, 6]:\n",
    "                quy = 2\n",
    "            elif thang in [7, 8, 9]:\n",
    "                quy = 3\n",
    "            else:\n",
    "                quy = 4\n",
    "            print(f'Tháng {thang} thuộc quý {quy} trong năm.')\n",
    "            break\n",
    "        else:\n",
    "            print(\"Vui lòng nhập tháng trong khoảng từ 1 đến 12.\")\n",
    "    except ValueError:\n",
    "        print(\"Dữ liệu không hợp lệ. Vui lòng nhập lại!\")\n"
   ]
  },
  {
   "cell_type": "code",
   "execution_count": null,
   "id": "44b69312",
   "metadata": {
    "vscode": {
     "languageId": "plaintext"
    }
   },
   "outputs": [],
   "source": [
    "// cau 10\n",
    "x=int(input(\"Nhập x:\"))\n",
    "n=int(input(\"Nhập N:\"))\n",
    "s=0\n",
    "for i in range(1,n+1):\n",
    " tu=x**i\n",
    " mau=1\n",
    " for j in range(1,i+1):\n",
    " mau=mau*j\n",
    " s=s+(tu/mau)\n",
    "print(\"s({0},{1})={2}\".format(x,n,s))"
   ]
  },
  {
   "cell_type": "code",
   "execution_count": null,
   "id": "8fb1356b",
   "metadata": {
    "vscode": {
     "languageId": "plaintext"
    }
   },
   "outputs": [],
   "source": [
    "//cau 11\n",
    "while True:\n",
    " n=int(input(\"Nhập 1 số nguyên dương\"))\n",
    " dem=0\n",
    " for i in range(1,n+1):\n",
    " if n % i ==0 :\n",
    " dem+=1\n",
    " if dem==2:\n",
    " print(n,\"Là số nguyên tố\")\n",
    " else:\n",
    " print(n,\"Không là số nguyên tố\")\n",
    " hoi=input(\"Tiếp không Thím?(c/k):\")\n",
    " if hoi is \"k\":\n",
    " break\n",
    "print(\"BYE!\")"
   ]
  },
  {
   "cell_type": "code",
   "execution_count": null,
   "id": "91e1d4d1",
   "metadata": {
    "vscode": {
     "languageId": "plaintext"
    }
   },
   "outputs": [],
   "source": [
    "// cau 12\n",
    " i in range(1,11):\n",
    " for j in range(2,10):\n",
    " line=\"{0}*{1:>2}={2:>2}\".format(j,i,i*j)\n",
    " print(line,end='\\t')\n",
    " print()"
   ]
  },
  {
   "cell_type": "code",
   "execution_count": null,
   "id": "35b719c6",
   "metadata": {
    "vscode": {
     "languageId": "plaintext"
    }
   },
   "outputs": [],
   "source": [
    "print('Câu 13: Chương trình Cho biết bao nhiêu dấu * được in ra trên màn hình')\n",
    "'''a = 0\n",
    "while a < 100:\n",
    "    print('*', end='')\n",
    "print()\n",
    "'''\n",
    "print('Kết quả: Chương trình sẽ in ra vô hạn dấu * vì biến a không được tăng giá trị trong vòng lặp while.')\n"
   ]
  },
  {
   "cell_type": "code",
   "execution_count": null,
   "id": "a4ff21d8",
   "metadata": {
    "vscode": {
     "languageId": "plaintext"
    }
   },
   "outputs": [],
   "source": [
    "print('Câu 14: Chương trình Cho biết bao nhiêu dấu * được in ra trên màn hình')\n",
    "a = 0\n",
    "while a < 100:\n",
    "    b = 0\n",
    "    while b < 40:\n",
    "        if (a + b) % 2 == 0:\n",
    "            print('*', end='')  \n",
    "        b += 1\n",
    "    print()\n",
    "    a += 1\n",
    "print('Chương trình này sẽ in ra 2000 dấu * xếp thành hình chữ nhật 100 dòng × 20 cột')\n"
   ]
  },
  {
   "cell_type": "code",
   "execution_count": null,
   "id": "a2fb6451",
   "metadata": {
    "vscode": {
     "languageId": "plaintext"
    }
   },
   "outputs": [],
   "source": [
    "print('Câu 15: Chương trình giải thích cách chạy các dòng lệnh range')\n",
    "temp = {\n",
    "    \"(a) range(5)\": range(5),\n",
    "    \"(b) range(5, 10)\": range(5, 10),\n",
    "    \"(c) range(5, 20, 3)\": range(5, 20, 3),\n",
    "    \"(d) range(20, 5, -1)\": range(20, 5, -1),\n",
    "    \"(e) range(20, 5, -3)\": range(20, 5, -3),\n",
    "    \"(f) range(10, 5)\": range(10, 5),\n",
    "    \"(g) range(0)\": range(0),\n",
    "    \"(h) range(10, 101, 10)\": range(10, 101, 10),\n",
    "    \"(i) range(10, -1, -1)\": range(10, -1, -1),\n",
    "    \"(j) range(-3, 4)\": range(-3, 4),\n",
    "    \"(k) range(0, 10, 1)\": range(0, 10, 1),\n",
    "}\n",
    "for label, r in temp.items():\n",
    "    print(f\"{label} → {list(r)}\")"
   ]
  },
  {
   "cell_type": "code",
   "execution_count": null,
   "id": "b2247620",
   "metadata": {
    "vscode": {
     "languageId": "plaintext"
    }
   },
   "outputs": [],
   "source": [
    "print('Câu 16: Chương trình Cho biết bao nhiêu dấu * được in ra trên màn hình')\n",
    "for a in range(20, 100, 5):\n",
    "    print('*', end='')\n",
    "print('\\nKết quả: Chương trình sẽ in ra 16 dấu *')"
   ]
  },
  {
   "cell_type": "code",
   "execution_count": null,
   "id": "911b22b1",
   "metadata": {
    "vscode": {
     "languageId": "plaintext"
    }
   },
   "outputs": [],
   "source": [
    "print('Câu 17: Chương trình viết lại coding dưới đây bằng cách dùng từ khóa break thay thế cho biến done')\n",
    "print('=> Không thực hiện được do trùng từ khóa')"
   ]
  },
  {
   "cell_type": "code",
   "execution_count": null,
   "id": "40716164",
   "metadata": {
    "vscode": {
     "languageId": "plaintext"
    }
   },
   "outputs": [],
   "source": [
    "print('Câu 18: Chương trình vẽ hình')\n",
    "n = int(input(\"Nhập chiều cao n: \"))\n",
    "m = n \n",
    "# Hình 1\n",
    "for i in range(n):\n",
    "    for j in range(m):\n",
    "        if i == 0 or i == n-1 or j == 0 or j == m-1:\n",
    "            print(\"*\", end=\" \")\n",
    "        else:\n",
    "            print(\" \", end=\" \")\n",
    "    print()\n",
    "print('\\n')\n",
    "# Hình 2\n",
    "for i in range(1, n+1):\n",
    "    print(\"  \" * (n - i) + \"* \" * i)\n",
    "\n",
    "print('\\n')\n",
    "# Hình 3\n",
    "\n",
    "width = 2 * n - 1 \n",
    "\n",
    "for i in range(1, 2 * n): \n",
    "    for j in range(1, width + 1):\n",
    "        if i <= n:\n",
    "            if j == 1 or j == i or i == n:\n",
    "                print(\"*\", end=\" \")\n",
    "            else:\n",
    "                print(\" \", end=\" \")\n",
    "        else:\n",
    "            if j == width or j == i:\n",
    "                print(\"*\", end=\" \")\n",
    "            else:\n",
    "                print(\" \", end=\" \")\n",
    "    print()\n"
   ]
  },
  {
   "cell_type": "code",
   "execution_count": null,
   "id": "d43f5910",
   "metadata": {
    "vscode": {
     "languageId": "plaintext"
    }
   },
   "outputs": [],
   "source": [
    "print('Câu 19: Chương trình tính giá trị biểu thức')\n",
    "x = float(input(\"Nhập x: \"))\n",
    "n = int(input(\"Nhập n: \"))\n",
    "s = 0\n",
    "for i in range(n +1):\n",
    "    gt =1\n",
    "    for j in range(1,2 * 1 + 2):\n",
    "        gt *=j\n",
    "    s += x**(2*1 + 1) / gt\n",
    "print(\"S(\", x, \",\", n, \") =\", s)"
   ]
  }
 ],
 "metadata": {
  "language_info": {
   "name": "python"
  }
 },
 "nbformat": 4,
 "nbformat_minor": 5
}
