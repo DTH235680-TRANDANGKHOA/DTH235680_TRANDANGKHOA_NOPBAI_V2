{
 "cells": [
  {
   "cell_type": "code",
   "execution_count": null,
   "id": "ea7ba5c7",
   "metadata": {
    "vscode": {
     "languageId": "plaintext"
    }
   },
   "outputs": [],
   "source": [
    "print('Câu 19: Chương trình tính giá trị biểu thức')\n",
    "x = float(input(\"Nhập x: \"))\n",
    "n = int(input(\"Nhập n: \"))\n",
    "s = 0\n",
    "for i in range(n +1):\n",
    "    gt =1\n",
    "    for j in range(1,2 * 1 + 2):\n",
    "        gt *=j\n",
    "    s += x**(2*1 + 1) / gt\n",
    "print(\"S(\", x, \",\", n, \") =\", s)"
   ]
  }
 ],
 "metadata": {
  "language_info": {
   "name": "python"
  }
 },
 "nbformat": 4,
 "nbformat_minor": 5
}
